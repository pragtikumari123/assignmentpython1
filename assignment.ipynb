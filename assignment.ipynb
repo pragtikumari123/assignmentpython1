{
  "nbformat": 4,
  "nbformat_minor": 0,
  "metadata": {
    "colab": {
      "provenance": []
    },
    "kernelspec": {
      "name": "python3",
      "display_name": "Python 3"
    },
    "language_info": {
      "name": "python"
    }
  },
  "cells": [
    {
      "cell_type": "code",
      "execution_count": 1,
      "metadata": {
        "colab": {
          "base_uri": "https://localhost:8080/"
        },
        "id": "CFc-d0-lmS6N",
        "outputId": "a15c65ab-4fa3-4a13-a6f8-51f260c5e484"
      },
      "outputs": [
        {
          "output_type": "execute_result",
          "data": {
            "text/plain": [
              "str"
            ]
          },
          "metadata": {},
          "execution_count": 1
        }
      ],
      "source": [
        "x=\"my name is pragati\"\n",
        "type(x)"
      ]
    },
    {
      "cell_type": "code",
      "source": [
        "f=[\"pragti\",2,2.3,(3,4,5)]\n",
        "type(f)"
      ],
      "metadata": {
        "colab": {
          "base_uri": "https://localhost:8080/"
        },
        "id": "EvBd3dWfm9yC",
        "outputId": "fc3a4431-d009-4cd4-895b-be5bcb071665"
      },
      "execution_count": null,
      "outputs": [
        {
          "output_type": "execute_result",
          "data": {
            "text/plain": [
              "list"
            ]
          },
          "metadata": {},
          "execution_count": 4
        }
      ]
    },
    {
      "cell_type": "code",
      "source": [
        "y=2.4\n",
        "type(y)"
      ],
      "metadata": {
        "colab": {
          "base_uri": "https://localhost:8080/"
        },
        "id": "ueOzvuLfnWko",
        "outputId": "c7d9e7a2-b993-47a6-d9ce-f4f7b0216986"
      },
      "execution_count": null,
      "outputs": [
        {
          "output_type": "execute_result",
          "data": {
            "text/plain": [
              "float"
            ]
          },
          "metadata": {},
          "execution_count": 5
        }
      ]
    },
    {
      "cell_type": "code",
      "source": [
        "p=(3,4,5,6)\n",
        "type(p)"
      ],
      "metadata": {
        "colab": {
          "base_uri": "https://localhost:8080/"
        },
        "id": "O-JOFX_bngAD",
        "outputId": "f056efcd-8b2b-43d6-c41b-da8a67eb26e7"
      },
      "execution_count": null,
      "outputs": [
        {
          "output_type": "execute_result",
          "data": {
            "text/plain": [
              "tuple"
            ]
          },
          "metadata": {},
          "execution_count": 6
        }
      ]
    },
    {
      "cell_type": "code",
      "source": [
        "var1=''\n",
        "type(var1)"
      ],
      "metadata": {
        "colab": {
          "base_uri": "https://localhost:8080/"
        },
        "id": "0gwrUr25nnlr",
        "outputId": "29ee3a6e-3033-471e-96c2-f2d8b75bf8d2"
      },
      "execution_count": null,
      "outputs": [
        {
          "output_type": "execute_result",
          "data": {
            "text/plain": [
              "str"
            ]
          },
          "metadata": {},
          "execution_count": 9
        }
      ]
    },
    {
      "cell_type": "code",
      "source": [
        "var2='[ds,ml,python]'\n",
        "type(var2)"
      ],
      "metadata": {
        "colab": {
          "base_uri": "https://localhost:8080/"
        },
        "id": "eNvR0PsfnxMx",
        "outputId": "64822a8d-78aa-4124-945b-03a74f8ebee0"
      },
      "execution_count": null,
      "outputs": [
        {
          "output_type": "execute_result",
          "data": {
            "text/plain": [
              "str"
            ]
          },
          "metadata": {},
          "execution_count": 10
        }
      ]
    },
    {
      "cell_type": "code",
      "source": [
        "var3=['ds,ml,python']\n",
        "type(var3)\n"
      ],
      "metadata": {
        "colab": {
          "base_uri": "https://localhost:8080/"
        },
        "id": "qWuCimWVoHnl",
        "outputId": "de0c4b61-949d-4d1b-b7db-ea1af7d60099"
      },
      "execution_count": null,
      "outputs": [
        {
          "output_type": "execute_result",
          "data": {
            "text/plain": [
              "list"
            ]
          },
          "metadata": {},
          "execution_count": 11
        }
      ]
    },
    {
      "cell_type": "code",
      "source": [
        "var4=1\n",
        "type(var4)\n",
        "\n"
      ],
      "metadata": {
        "colab": {
          "base_uri": "https://localhost:8080/"
        },
        "id": "PSy5VN60oeMs",
        "outputId": "3424fd72-28f3-4214-891e-b8d9f42f53c9"
      },
      "execution_count": null,
      "outputs": [
        {
          "output_type": "execute_result",
          "data": {
            "text/plain": [
              "int"
            ]
          },
          "metadata": {},
          "execution_count": 12
        }
      ]
    },
    {
      "cell_type": "code",
      "source": [
        "4+4"
      ],
      "metadata": {
        "colab": {
          "base_uri": "https://localhost:8080/"
        },
        "id": "ceCLJDIIoFu_",
        "outputId": "48b6de01-55d7-41cf-d0af-81d83e2afa2f"
      },
      "execution_count": null,
      "outputs": [
        {
          "output_type": "execute_result",
          "data": {
            "text/plain": [
              "8"
            ]
          },
          "metadata": {},
          "execution_count": 15
        }
      ]
    },
    {
      "cell_type": "code",
      "source": [
        "10/2"
      ],
      "metadata": {
        "colab": {
          "base_uri": "https://localhost:8080/"
        },
        "id": "997hHWUCo1T0",
        "outputId": "3fe98651-1548-4e6c-f317-3da30d96f98e"
      },
      "execution_count": null,
      "outputs": [
        {
          "output_type": "execute_result",
          "data": {
            "text/plain": [
              "5.0"
            ]
          },
          "metadata": {},
          "execution_count": 16
        }
      ]
    },
    {
      "cell_type": "code",
      "source": [
        "10//2"
      ],
      "metadata": {
        "colab": {
          "base_uri": "https://localhost:8080/"
        },
        "id": "eNki38uNpJ2c",
        "outputId": "f3323ffe-a185-47be-cf5d-695b195f7bd2"
      },
      "execution_count": null,
      "outputs": [
        {
          "output_type": "execute_result",
          "data": {
            "text/plain": [
              "5"
            ]
          },
          "metadata": {},
          "execution_count": 17
        }
      ]
    },
    {
      "cell_type": "code",
      "source": [
        "10%2"
      ],
      "metadata": {
        "colab": {
          "base_uri": "https://localhost:8080/"
        },
        "id": "Qr0ROEI3pN8c",
        "outputId": "0d4323bb-c39a-40be-83ad-12f4bddbc68f"
      },
      "execution_count": null,
      "outputs": [
        {
          "output_type": "execute_result",
          "data": {
            "text/plain": [
              "0"
            ]
          },
          "metadata": {},
          "execution_count": 18
        }
      ]
    },
    {
      "cell_type": "code",
      "source": [
        "10**2"
      ],
      "metadata": {
        "colab": {
          "base_uri": "https://localhost:8080/"
        },
        "id": "7-L6rDYkpTrk",
        "outputId": "e1ac18cb-9a4d-472d-9f00-bc29c8b7dc60"
      },
      "execution_count": null,
      "outputs": [
        {
          "output_type": "execute_result",
          "data": {
            "text/plain": [
              "100"
            ]
          },
          "metadata": {},
          "execution_count": 19
        }
      ]
    },
    {
      "cell_type": "code",
      "source": [
        "list=[\"pragti\",2,3.4,(1,3,4),987]\n",
        "for a in list:\n",
        "  print(a)\n",
        "  print(a,type(a))"
      ],
      "metadata": {
        "colab": {
          "base_uri": "https://localhost:8080/"
        },
        "id": "hW6hCplIpXYR",
        "outputId": "2d0a3277-8b2b-4757-d618-c21b762f03fe"
      },
      "execution_count": 5,
      "outputs": [
        {
          "output_type": "stream",
          "name": "stdout",
          "text": [
            "pragti\n",
            "pragti <class 'str'>\n",
            "2\n",
            "2 <class 'int'>\n",
            "3.4\n",
            "3.4 <class 'float'>\n",
            "(1, 3, 4)\n",
            "(1, 3, 4) <class 'tuple'>\n",
            "987\n",
            "987 <class 'int'>\n"
          ]
        }
      ]
    },
    {
      "cell_type": "code",
      "source": [
        "list=[1,2,3,4,5,6,7,8,9,10,11,12,13,14,15,16,17,18,19,20,21,22,23,24,25]\n",
        "for a in list:\n",
        "  if a/3==0:\n",
        "    print(\"the element is divisible\")\n",
        "  else:\n",
        "    print(\"the element is not divisible\")\n"
      ],
      "metadata": {
        "colab": {
          "base_uri": "https://localhost:8080/"
        },
        "id": "-eRheamyuR4g",
        "outputId": "dbd1d23a-94f0-40f6-f54d-dde070e80d5a"
      },
      "execution_count": 6,
      "outputs": [
        {
          "output_type": "stream",
          "name": "stdout",
          "text": [
            "the element is not divisible\n",
            "the element is not divisible\n",
            "the element is not divisible\n",
            "the element is not divisible\n",
            "the element is not divisible\n",
            "the element is not divisible\n",
            "the element is not divisible\n",
            "the element is not divisible\n",
            "the element is not divisible\n",
            "the element is not divisible\n",
            "the element is not divisible\n",
            "the element is not divisible\n",
            "the element is not divisible\n",
            "the element is not divisible\n",
            "the element is not divisible\n",
            "the element is not divisible\n",
            "the element is not divisible\n",
            "the element is not divisible\n",
            "the element is not divisible\n",
            "the element is not divisible\n",
            "the element is not divisible\n",
            "the element is not divisible\n",
            "the element is not divisible\n",
            "the element is not divisible\n",
            "the element is not divisible\n"
          ]
        }
      ]
    },
    {
      "cell_type": "code",
      "source": [
        "## mutable is called we can change example= list, dictionary, sets and immutable is called we can not change example numbers,strings,interger,complex,tuples,bool,float##"
      ],
      "metadata": {
        "id": "7jqTmd_0nGcm"
      },
      "execution_count": 7,
      "outputs": []
    },
    {
      "cell_type": "code",
      "source": [
        "## question5##\n",
        "def isDivisible(n):\n",
        "  temp=n\n",
        "  while(n):\n",
        "    k=n%10\n",
        "    if(temp%k==0):\n",
        "\n",
        "      n/=10;\n",
        "      return \"no\"\n",
        "      n=789568\n",
        "      print(isdivisible(n))\n",
        "\n"
      ],
      "metadata": {
        "id": "9GVSr-oKo7el"
      },
      "execution_count": 8,
      "outputs": []
    }
  ]
}